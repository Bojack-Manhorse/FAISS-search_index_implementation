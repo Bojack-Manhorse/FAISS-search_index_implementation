{
 "cells": [
  {
   "cell_type": "code",
   "execution_count": 1,
   "metadata": {},
   "outputs": [
    {
     "name": "stderr",
     "output_type": "stream",
     "text": [
      "/home/ibs/.local/lib/python3.10/site-packages/pandas/core/arrays/masked.py:60: UserWarning: Pandas requires version '1.3.6' or newer of 'bottleneck' (version '1.3.5' currently installed).\n",
      "  from pandas.core import (\n"
     ]
    }
   ],
   "source": [
    "import pandas as pd\n",
    "import numpy as np"
   ]
  },
  {
   "cell_type": "code",
   "execution_count": 113,
   "metadata": {},
   "outputs": [],
   "source": [
    "dataset = pd.read_csv('Datasets/Products.csv', lineterminator='\\n')"
   ]
  },
  {
   "cell_type": "code",
   "execution_count": 114,
   "metadata": {},
   "outputs": [
    {
     "data": {
      "text/plain": [
       "(Unnamed: 0             7156\n",
       " id                     7156\n",
       " product_name           7156\n",
       " category               7156\n",
       " product_description    7156\n",
       " price                  7156\n",
       " location               7156\n",
       " dtype: int64,\n",
       " Unnamed: 0             7156\n",
       " id                     7156\n",
       " product_name           7156\n",
       " category               7156\n",
       " product_description    7156\n",
       " price                  7156\n",
       " location               7156\n",
       " dtype: int64,\n",
       " array(['£'], dtype=object),\n",
       " array(['.00', '.99', '.78', '.01', '.97', '.25', '.50', '.20', '.90',\n",
       "        '.80', '.60', '.23', '.05', '.75', '.56', '.40', '.44', '.95',\n",
       "        '.66', '.35', '.85', '.30', '.45', '.16', '.69', '.49', '.55',\n",
       "        '.09', '.11'], dtype=object))"
      ]
     },
     "execution_count": 114,
     "metadata": {},
     "output_type": "execute_result"
    }
   ],
   "source": [
    "dataset.count(), dataset.dropna().count(), dataset[\"price\"].map(lambda x: x[0]).unique(), dataset[\"price\"].map(lambda x: x[-3:]).unique()"
   ]
  },
  {
   "cell_type": "markdown",
   "metadata": {},
   "source": [
    "# So the dataset seems to already be clean\n",
    "\n",
    "Now we convert the price column"
   ]
  },
  {
   "cell_type": "code",
   "execution_count": 115,
   "metadata": {},
   "outputs": [],
   "source": [
    "dataset_cleaned = dataset\n",
    "\n",
    "def remove_pound_sign(string_to_replace) -> str:\n",
    "    return \n",
    "\n",
    "dataset_cleaned['price'] = dataset_cleaned['price'].map(lambda x : x.replace('£', '')) #Removes the pound signs\n",
    "dataset_cleaned['price'] = dataset_cleaned['price'].map(lambda x: x.replace(',', '')) #Removes commas\n",
    "\n",
    "dataset_cleaned['price'] = pd.to_numeric(dataset_cleaned['price'])"
   ]
  },
  {
   "cell_type": "markdown",
   "metadata": {},
   "source": [
    "# Now we extract the root category from each item"
   ]
  },
  {
   "cell_type": "code",
   "execution_count": 116,
   "metadata": {},
   "outputs": [],
   "source": [
    "dataset_cleaned['category'] = dataset_cleaned['category'].map(lambda x: x.split(' /' )[0])"
   ]
  },
  {
   "cell_type": "code",
   "execution_count": 117,
   "metadata": {},
   "outputs": [
    {
     "data": {
      "text/plain": [
       "array(['Home & Garden', 'Baby & Kids Stuff', 'DIY Tools & Materials',\n",
       "       'Music, Films, Books & Games', 'Phones, Mobile Phones & Telecoms',\n",
       "       'Clothes, Footwear & Accessories', 'Other Goods',\n",
       "       'Health & Beauty', 'Sports, Leisure & Travel', 'Appliances',\n",
       "       'Computers & Software', 'Office Furniture & Equipment',\n",
       "       'Video Games & Consoles'], dtype=object)"
      ]
     },
     "execution_count": 117,
     "metadata": {},
     "output_type": "execute_result"
    }
   ],
   "source": [
    "dataset_cleaned['category'].unique()"
   ]
  },
  {
   "cell_type": "markdown",
   "metadata": {},
   "source": [
    "Now we create an encoder to go to and from the categories and integers"
   ]
  },
  {
   "cell_type": "code",
   "execution_count": 118,
   "metadata": {},
   "outputs": [
    {
     "data": {
      "text/plain": [
       "({'Home & Garden': 0,\n",
       "  'Baby & Kids Stuff': 1,\n",
       "  'DIY Tools & Materials': 2,\n",
       "  'Music, Films, Books & Games': 3,\n",
       "  'Phones, Mobile Phones & Telecoms': 4,\n",
       "  'Clothes, Footwear & Accessories': 5,\n",
       "  'Other Goods': 6,\n",
       "  'Health & Beauty': 7,\n",
       "  'Sports, Leisure & Travel': 8,\n",
       "  'Appliances': 9,\n",
       "  'Computers & Software': 10,\n",
       "  'Office Furniture & Equipment': 11,\n",
       "  'Video Games & Consoles': 12},\n",
       " {0: 'Home & Garden',\n",
       "  1: 'Baby & Kids Stuff',\n",
       "  2: 'DIY Tools & Materials',\n",
       "  3: 'Music, Films, Books & Games',\n",
       "  4: 'Phones, Mobile Phones & Telecoms',\n",
       "  5: 'Clothes, Footwear & Accessories',\n",
       "  6: 'Other Goods',\n",
       "  7: 'Health & Beauty',\n",
       "  8: 'Sports, Leisure & Travel',\n",
       "  9: 'Appliances',\n",
       "  10: 'Computers & Software',\n",
       "  11: 'Office Furniture & Equipment',\n",
       "  12: 'Video Games & Consoles'})"
      ]
     },
     "execution_count": 118,
     "metadata": {},
     "output_type": "execute_result"
    }
   ],
   "source": [
    "list_of_categories = list(dataset_cleaned['category'].unique())\n",
    "\n",
    "encoder = {x: list_of_categories.index(x) for x in list_of_categories}\n",
    "\n",
    "decoder = {list_of_categories.index(x):x for x in list_of_categories}\n",
    "\n",
    "encoder, decoder"
   ]
  },
  {
   "cell_type": "markdown",
   "metadata": {},
   "source": [
    "# Now we merge this with the original table:"
   ]
  },
  {
   "cell_type": "code",
   "execution_count": 119,
   "metadata": {},
   "outputs": [],
   "source": [
    "dataset_cleaned['label_index'] = dataset_cleaned['category'].map(lambda x:encoder[x])"
   ]
  },
  {
   "cell_type": "markdown",
   "metadata": {},
   "source": [
    "# Next we merge this with the images table:"
   ]
  },
  {
   "cell_type": "code",
   "execution_count": 127,
   "metadata": {},
   "outputs": [
    {
     "data": {
      "text/plain": [
       "(Unnamed: 0               int64\n",
       " id                      object\n",
       " product_name            object\n",
       " category                object\n",
       " product_description     object\n",
       " price                  float64\n",
       " location                object\n",
       " label_index              int64\n",
       " merge_column            object\n",
       " dtype: object,\n",
       " Unnamed: 0       int64\n",
       " id              object\n",
       " product_id      object\n",
       " merge_column    object\n",
       " dtype: object)"
      ]
     },
     "execution_count": 127,
     "metadata": {},
     "output_type": "execute_result"
    }
   ],
   "source": [
    "images_dataset = pd.read_csv('Datasets/Images.csv')\n",
    "\n",
    "dataset_cleaned[\"merge_column\"] = dataset_cleaned['id']\n",
    "images_dataset['merge_column'] = images_dataset['product_id']\n",
    "\n",
    "dataset_cleaned.dtypes, images_dataset.dtypes"
   ]
  },
  {
   "cell_type": "code",
   "execution_count": 135,
   "metadata": {},
   "outputs": [],
   "source": [
    "merged_df = images_dataset.merge(dataset_cleaned, on='merge_column')"
   ]
  },
  {
   "cell_type": "code",
   "execution_count": 136,
   "metadata": {},
   "outputs": [
    {
     "data": {
      "text/html": [
       "<div>\n",
       "<style scoped>\n",
       "    .dataframe tbody tr th:only-of-type {\n",
       "        vertical-align: middle;\n",
       "    }\n",
       "\n",
       "    .dataframe tbody tr th {\n",
       "        vertical-align: top;\n",
       "    }\n",
       "\n",
       "    .dataframe thead th {\n",
       "        text-align: right;\n",
       "    }\n",
       "</style>\n",
       "<table border=\"1\" class=\"dataframe\">\n",
       "  <thead>\n",
       "    <tr style=\"text-align: right;\">\n",
       "      <th></th>\n",
       "      <th>id_x</th>\n",
       "      <th>product_id</th>\n",
       "      <th>label_index</th>\n",
       "    </tr>\n",
       "  </thead>\n",
       "  <tbody>\n",
       "    <tr>\n",
       "      <th>0</th>\n",
       "      <td>912bb259-3ad9-457b-9db1-ce1da9016057</td>\n",
       "      <td>5f5f57d7-778f-4336-bb10-b43863418c8c</td>\n",
       "      <td>0</td>\n",
       "    </tr>\n",
       "    <tr>\n",
       "      <th>1</th>\n",
       "      <td>b166d305-b852-4bdd-83f4-465b20da94fa</td>\n",
       "      <td>5f5f57d7-778f-4336-bb10-b43863418c8c</td>\n",
       "      <td>0</td>\n",
       "    </tr>\n",
       "    <tr>\n",
       "      <th>2</th>\n",
       "      <td>68f5a29d-0075-4d60-81c1-ab684a82e50c</td>\n",
       "      <td>c2c8949f-3cde-4651-a234-4a4a1b2a9ad4</td>\n",
       "      <td>0</td>\n",
       "    </tr>\n",
       "    <tr>\n",
       "      <th>3</th>\n",
       "      <td>f6a309d7-d247-446a-9b5e-aceefdd4334d</td>\n",
       "      <td>c2c8949f-3cde-4651-a234-4a4a1b2a9ad4</td>\n",
       "      <td>0</td>\n",
       "    </tr>\n",
       "    <tr>\n",
       "      <th>4</th>\n",
       "      <td>2c2b3a6f-15b3-4289-937a-15482d9f5781</td>\n",
       "      <td>8292aa4e-7f1b-4655-bf0e-f1f2c9e3ffaf</td>\n",
       "      <td>0</td>\n",
       "    </tr>\n",
       "    <tr>\n",
       "      <th>...</th>\n",
       "      <td>...</td>\n",
       "      <td>...</td>\n",
       "      <td>...</td>\n",
       "    </tr>\n",
       "    <tr>\n",
       "      <th>12599</th>\n",
       "      <td>cdec1c5c-c4b1-42db-afbe-3fa68ea4b87d</td>\n",
       "      <td>2b0a652b-46a2-4297-b619-5efeeb222787</td>\n",
       "      <td>12</td>\n",
       "    </tr>\n",
       "    <tr>\n",
       "      <th>12600</th>\n",
       "      <td>dc99e40f-6b15-494d-9fb7-f0d02e9781f9</td>\n",
       "      <td>719fd40a-870e-4144-b324-55dff2e66fb4</td>\n",
       "      <td>12</td>\n",
       "    </tr>\n",
       "    <tr>\n",
       "      <th>12601</th>\n",
       "      <td>c8488028-bf07-4258-a4c2-56d2fe387835</td>\n",
       "      <td>719fd40a-870e-4144-b324-55dff2e66fb4</td>\n",
       "      <td>12</td>\n",
       "    </tr>\n",
       "    <tr>\n",
       "      <th>12602</th>\n",
       "      <td>c6113145-89c8-47cd-9211-38f29d016cc7</td>\n",
       "      <td>86d1806b-5575-4a7e-9160-f24f12be6c95</td>\n",
       "      <td>12</td>\n",
       "    </tr>\n",
       "    <tr>\n",
       "      <th>12603</th>\n",
       "      <td>ed2aaf88-616c-4e6b-af49-bbdf7c0fbd06</td>\n",
       "      <td>86d1806b-5575-4a7e-9160-f24f12be6c95</td>\n",
       "      <td>12</td>\n",
       "    </tr>\n",
       "  </tbody>\n",
       "</table>\n",
       "<p>12604 rows × 3 columns</p>\n",
       "</div>"
      ],
      "text/plain": [
       "                                       id_x  \\\n",
       "0      912bb259-3ad9-457b-9db1-ce1da9016057   \n",
       "1      b166d305-b852-4bdd-83f4-465b20da94fa   \n",
       "2      68f5a29d-0075-4d60-81c1-ab684a82e50c   \n",
       "3      f6a309d7-d247-446a-9b5e-aceefdd4334d   \n",
       "4      2c2b3a6f-15b3-4289-937a-15482d9f5781   \n",
       "...                                     ...   \n",
       "12599  cdec1c5c-c4b1-42db-afbe-3fa68ea4b87d   \n",
       "12600  dc99e40f-6b15-494d-9fb7-f0d02e9781f9   \n",
       "12601  c8488028-bf07-4258-a4c2-56d2fe387835   \n",
       "12602  c6113145-89c8-47cd-9211-38f29d016cc7   \n",
       "12603  ed2aaf88-616c-4e6b-af49-bbdf7c0fbd06   \n",
       "\n",
       "                                 product_id  label_index  \n",
       "0      5f5f57d7-778f-4336-bb10-b43863418c8c            0  \n",
       "1      5f5f57d7-778f-4336-bb10-b43863418c8c            0  \n",
       "2      c2c8949f-3cde-4651-a234-4a4a1b2a9ad4            0  \n",
       "3      c2c8949f-3cde-4651-a234-4a4a1b2a9ad4            0  \n",
       "4      8292aa4e-7f1b-4655-bf0e-f1f2c9e3ffaf            0  \n",
       "...                                     ...          ...  \n",
       "12599  2b0a652b-46a2-4297-b619-5efeeb222787           12  \n",
       "12600  719fd40a-870e-4144-b324-55dff2e66fb4           12  \n",
       "12601  719fd40a-870e-4144-b324-55dff2e66fb4           12  \n",
       "12602  86d1806b-5575-4a7e-9160-f24f12be6c95           12  \n",
       "12603  86d1806b-5575-4a7e-9160-f24f12be6c95           12  \n",
       "\n",
       "[12604 rows x 3 columns]"
      ]
     },
     "execution_count": 136,
     "metadata": {},
     "output_type": "execute_result"
    }
   ],
   "source": [
    "merged_df = merged_df[[\"id_x\", \"product_id\", \"label_index\"]]\n",
    "merged_df"
   ]
  },
  {
   "cell_type": "code",
   "execution_count": 139,
   "metadata": {},
   "outputs": [
    {
     "data": {
      "text/html": [
       "<div>\n",
       "<style scoped>\n",
       "    .dataframe tbody tr th:only-of-type {\n",
       "        vertical-align: middle;\n",
       "    }\n",
       "\n",
       "    .dataframe tbody tr th {\n",
       "        vertical-align: top;\n",
       "    }\n",
       "\n",
       "    .dataframe thead th {\n",
       "        text-align: right;\n",
       "    }\n",
       "</style>\n",
       "<table border=\"1\" class=\"dataframe\">\n",
       "  <thead>\n",
       "    <tr style=\"text-align: right;\">\n",
       "      <th></th>\n",
       "      <th>id</th>\n",
       "      <th>product_id</th>\n",
       "      <th>label_index</th>\n",
       "    </tr>\n",
       "  </thead>\n",
       "  <tbody>\n",
       "    <tr>\n",
       "      <th>0</th>\n",
       "      <td>912bb259-3ad9-457b-9db1-ce1da9016057</td>\n",
       "      <td>5f5f57d7-778f-4336-bb10-b43863418c8c</td>\n",
       "      <td>0</td>\n",
       "    </tr>\n",
       "    <tr>\n",
       "      <th>1</th>\n",
       "      <td>b166d305-b852-4bdd-83f4-465b20da94fa</td>\n",
       "      <td>5f5f57d7-778f-4336-bb10-b43863418c8c</td>\n",
       "      <td>0</td>\n",
       "    </tr>\n",
       "    <tr>\n",
       "      <th>2</th>\n",
       "      <td>68f5a29d-0075-4d60-81c1-ab684a82e50c</td>\n",
       "      <td>c2c8949f-3cde-4651-a234-4a4a1b2a9ad4</td>\n",
       "      <td>0</td>\n",
       "    </tr>\n",
       "    <tr>\n",
       "      <th>3</th>\n",
       "      <td>f6a309d7-d247-446a-9b5e-aceefdd4334d</td>\n",
       "      <td>c2c8949f-3cde-4651-a234-4a4a1b2a9ad4</td>\n",
       "      <td>0</td>\n",
       "    </tr>\n",
       "    <tr>\n",
       "      <th>4</th>\n",
       "      <td>2c2b3a6f-15b3-4289-937a-15482d9f5781</td>\n",
       "      <td>8292aa4e-7f1b-4655-bf0e-f1f2c9e3ffaf</td>\n",
       "      <td>0</td>\n",
       "    </tr>\n",
       "    <tr>\n",
       "      <th>...</th>\n",
       "      <td>...</td>\n",
       "      <td>...</td>\n",
       "      <td>...</td>\n",
       "    </tr>\n",
       "    <tr>\n",
       "      <th>12599</th>\n",
       "      <td>cdec1c5c-c4b1-42db-afbe-3fa68ea4b87d</td>\n",
       "      <td>2b0a652b-46a2-4297-b619-5efeeb222787</td>\n",
       "      <td>12</td>\n",
       "    </tr>\n",
       "    <tr>\n",
       "      <th>12600</th>\n",
       "      <td>dc99e40f-6b15-494d-9fb7-f0d02e9781f9</td>\n",
       "      <td>719fd40a-870e-4144-b324-55dff2e66fb4</td>\n",
       "      <td>12</td>\n",
       "    </tr>\n",
       "    <tr>\n",
       "      <th>12601</th>\n",
       "      <td>c8488028-bf07-4258-a4c2-56d2fe387835</td>\n",
       "      <td>719fd40a-870e-4144-b324-55dff2e66fb4</td>\n",
       "      <td>12</td>\n",
       "    </tr>\n",
       "    <tr>\n",
       "      <th>12602</th>\n",
       "      <td>c6113145-89c8-47cd-9211-38f29d016cc7</td>\n",
       "      <td>86d1806b-5575-4a7e-9160-f24f12be6c95</td>\n",
       "      <td>12</td>\n",
       "    </tr>\n",
       "    <tr>\n",
       "      <th>12603</th>\n",
       "      <td>ed2aaf88-616c-4e6b-af49-bbdf7c0fbd06</td>\n",
       "      <td>86d1806b-5575-4a7e-9160-f24f12be6c95</td>\n",
       "      <td>12</td>\n",
       "    </tr>\n",
       "  </tbody>\n",
       "</table>\n",
       "<p>12604 rows × 3 columns</p>\n",
       "</div>"
      ],
      "text/plain": [
       "                                         id  \\\n",
       "0      912bb259-3ad9-457b-9db1-ce1da9016057   \n",
       "1      b166d305-b852-4bdd-83f4-465b20da94fa   \n",
       "2      68f5a29d-0075-4d60-81c1-ab684a82e50c   \n",
       "3      f6a309d7-d247-446a-9b5e-aceefdd4334d   \n",
       "4      2c2b3a6f-15b3-4289-937a-15482d9f5781   \n",
       "...                                     ...   \n",
       "12599  cdec1c5c-c4b1-42db-afbe-3fa68ea4b87d   \n",
       "12600  dc99e40f-6b15-494d-9fb7-f0d02e9781f9   \n",
       "12601  c8488028-bf07-4258-a4c2-56d2fe387835   \n",
       "12602  c6113145-89c8-47cd-9211-38f29d016cc7   \n",
       "12603  ed2aaf88-616c-4e6b-af49-bbdf7c0fbd06   \n",
       "\n",
       "                                 product_id  label_index  \n",
       "0      5f5f57d7-778f-4336-bb10-b43863418c8c            0  \n",
       "1      5f5f57d7-778f-4336-bb10-b43863418c8c            0  \n",
       "2      c2c8949f-3cde-4651-a234-4a4a1b2a9ad4            0  \n",
       "3      c2c8949f-3cde-4651-a234-4a4a1b2a9ad4            0  \n",
       "4      8292aa4e-7f1b-4655-bf0e-f1f2c9e3ffaf            0  \n",
       "...                                     ...          ...  \n",
       "12599  2b0a652b-46a2-4297-b619-5efeeb222787           12  \n",
       "12600  719fd40a-870e-4144-b324-55dff2e66fb4           12  \n",
       "12601  719fd40a-870e-4144-b324-55dff2e66fb4           12  \n",
       "12602  86d1806b-5575-4a7e-9160-f24f12be6c95           12  \n",
       "12603  86d1806b-5575-4a7e-9160-f24f12be6c95           12  \n",
       "\n",
       "[12604 rows x 3 columns]"
      ]
     },
     "execution_count": 139,
     "metadata": {},
     "output_type": "execute_result"
    }
   ],
   "source": [
    "merged_df = merged_df.rename(columns={'id_x':'id'})\n",
    "merged_df"
   ]
  },
  {
   "cell_type": "code",
   "execution_count": 140,
   "metadata": {},
   "outputs": [],
   "source": [
    "merged_df.to_csv('Datasets/training_data.csv')"
   ]
  },
  {
   "cell_type": "markdown",
   "metadata": {},
   "source": [
    "# Clean Image Dataset:"
   ]
  },
  {
   "cell_type": "code",
   "execution_count": 11,
   "metadata": {},
   "outputs": [],
   "source": [
    "from PIL import Image\n",
    "import os\n",
    "\n",
    "def resize_image(final_size, im):\n",
    "    size = im.size\n",
    "    ratio = float(final_size) / max(size)\n",
    "    new_image_size = tuple([int(x*ratio) for x in size])\n",
    "    im = im.resize(new_image_size)\n",
    "    new_im = Image.new(\"RGB\", (final_size, final_size))\n",
    "    new_im.paste(im, ((final_size-new_image_size[0])//2, (final_size-new_image_size[1])//2))\n",
    "    return new_im\n",
    "\n",
    "def clean_images(path_to_extract = \"Datasets/images/\", path_to_save = \"Datasets/cleaned_images/\"):\n",
    "    dirs = os.listdir(path_to_extract)\n",
    "    final_size = 512\n",
    "    for n, item in enumerate(dirs, 1):\n",
    "        #print(n, item)\n",
    "        im = Image.open(path_to_extract + item)\n",
    "        #print(im.width, im.height)\n",
    "        new_im = resize_image(final_size, im)\n",
    "        #print(new_im.width, new_im.height)\n",
    "        new_im.save(path_to_save + item)\n"
   ]
  },
  {
   "cell_type": "code",
   "execution_count": 12,
   "metadata": {},
   "outputs": [],
   "source": [
    "clean_images()"
   ]
  },
  {
   "cell_type": "code",
   "execution_count": null,
   "metadata": {},
   "outputs": [],
   "source": []
  }
 ],
 "metadata": {
  "kernelspec": {
   "display_name": "base",
   "language": "python",
   "name": "python3"
  },
  "language_info": {
   "codemirror_mode": {
    "name": "ipython",
    "version": 3
   },
   "file_extension": ".py",
   "mimetype": "text/x-python",
   "name": "python",
   "nbconvert_exporter": "python",
   "pygments_lexer": "ipython3",
   "version": "3.10.9"
  }
 },
 "nbformat": 4,
 "nbformat_minor": 2
}
