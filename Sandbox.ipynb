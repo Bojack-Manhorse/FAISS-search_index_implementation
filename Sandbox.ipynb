{
 "cells": [
  {
   "cell_type": "markdown",
   "metadata": {},
   "source": [
    "### Python Libraries"
   ]
  },
  {
   "cell_type": "code",
   "execution_count": 1,
   "metadata": {},
   "outputs": [
    {
     "name": "stderr",
     "output_type": "stream",
     "text": [
      "2024-07-01 12:07:22.476738: I tensorflow/core/platform/cpu_feature_guard.cc:182] This TensorFlow binary is optimized to use available CPU instructions in performance-critical operations.\n",
      "To enable the following instructions: AVX2 FMA, in other operations, rebuild TensorFlow with the appropriate compiler flags.\n",
      "2024-07-01 12:07:23.424976: W tensorflow/compiler/tf2tensorrt/utils/py_utils.cc:38] TF-TRT Warning: Could not find TensorRT\n"
     ]
    }
   ],
   "source": [
    "import faiss\n",
    "import json \n",
    "import numpy as np\n",
    "import os\n",
    "import PIL\n",
    "import pandas as pd\n",
    "import pickle\n",
    "import torch\n",
    "import torch.nn.functional as F\n",
    "\n",
    "from datetime import datetime\n",
    "from PIL import Image\n",
    "from sklearn.model_selection import train_test_split\n",
    "from sklearn.metrics import accuracy_score\n",
    "from torch.utils.data import DataLoader,Dataset\n",
    "from torch.utils.tensorboard import SummaryWriter\n",
    "from torchvision import transforms, models\n",
    "\n"
   ]
  },
  {
   "cell_type": "markdown",
   "metadata": {},
   "source": [
    "### Folder Structure\n",
    "\n",
    "Run the following cell to ensure the project folder is set up correctly."
   ]
  },
  {
   "cell_type": "code",
   "execution_count": null,
   "metadata": {},
   "outputs": [],
   "source": [
    "os.makedirs('Datasets', exist_ok=True)\n",
    "os.makedirs('Datasetss/images', exist_ok=True)\n",
    "os.makedirs('Datasetss/cleaned_images_224', exist_ok=True)\n",
    "os.makedirs('model_evaluation', exist_ok=True)\n",
    "os.makedirs('model_evaluation/final_model', exist_ok=True)\n",
    "os.makedirs('model_evaluation/weights', exist_ok=True)\n"
   ]
  },
  {
   "cell_type": "markdown",
   "metadata": {},
   "source": [
    "## Dataset Management\n",
    "\n",
    "### Importing the datasets\n",
    "\n",
    "The dataset is stored in the file `products.csv` file and has the following columns:\n",
    "\n",
    "- id\n",
    "- product_name\n",
    "- category\n",
    "- product_description\n",
    "- price\n",
    "- location\n",
    "\n",
    "We'll onyl need the id, category and price columns, but let's import everything."
   ]
  },
  {
   "cell_type": "code",
   "execution_count": 2,
   "metadata": {},
   "outputs": [],
   "source": [
    "dataset = pd.read_csv('Datasets/Products.csv', lineterminator='\\n')"
   ]
  },
  {
   "cell_type": "markdown",
   "metadata": {},
   "source": [
    "### Dataset Cleaning\n",
    "\n",
    "Let's print out some data regarding the dataframe."
   ]
  },
  {
   "cell_type": "code",
   "execution_count": 3,
   "metadata": {},
   "outputs": [
    {
     "name": "stdout",
     "output_type": "stream",
     "text": [
      "<class 'pandas.core.frame.DataFrame'>\n",
      "RangeIndex: 7156 entries, 0 to 7155\n",
      "Data columns (total 7 columns):\n",
      " #   Column               Non-Null Count  Dtype \n",
      "---  ------               --------------  ----- \n",
      " 0   Unnamed: 0           7156 non-null   int64 \n",
      " 1   id                   7156 non-null   object\n",
      " 2   product_name         7156 non-null   object\n",
      " 3   category             7156 non-null   object\n",
      " 4   product_description  7156 non-null   object\n",
      " 5   price                7156 non-null   object\n",
      " 6   location             7156 non-null   object\n",
      "dtypes: int64(1), object(6)\n",
      "memory usage: 391.5+ KB\n",
      "None\n",
      "Unnamed: 0             7156\n",
      "id                     7156\n",
      "product_name           7156\n",
      "category               7156\n",
      "product_description    7156\n",
      "price                  7156\n",
      "location               7156\n",
      "dtype: int64\n",
      "Unnamed: 0             7156\n",
      "id                     7156\n",
      "product_name           7156\n",
      "category               7156\n",
      "product_description    7156\n",
      "price                  7156\n",
      "location               7156\n",
      "dtype: int64\n",
      "['£']\n",
      "['.00' '.99' '.78' '.01' '.97' '.25' '.50' '.20' '.90' '.80' '.60' '.23'\n",
      " '.05' '.75' '.56' '.40' '.44' '.95' '.66' '.35' '.85' '.30' '.45' '.16'\n",
      " '.69' '.49' '.55' '.09' '.11']\n"
     ]
    }
   ],
   "source": [
    "# Print out general information.\n",
    "print(dataset.info())\n",
    "\n",
    "# Count the number of entries in the dataset.\n",
    "print(dataset.count())\n",
    "\n",
    "# Count the number of non-null entires in the dataset.\n",
    "print(dataset.dropna().count())\n",
    "\n",
    "# Check all the price entries begin with a pound sign.\n",
    "print(dataset[\"price\"].map(lambda x: x[0]).unique())\n",
    "\n",
    "# Check all the price entries are two point floats.\n",
    "print(dataset[\"price\"].map(lambda x: x[-3:]).unique())"
   ]
  },
  {
   "cell_type": "markdown",
   "metadata": {},
   "source": [
    "It seems that the dataset is already clean. \n",
    "\n",
    "### Price column processing\n",
    "\n",
    "Let's convert the perice column to type `float32`."
   ]
  },
  {
   "cell_type": "code",
   "execution_count": 4,
   "metadata": {},
   "outputs": [],
   "source": [
    "dataset_cleaned = dataset\n",
    "\n",
    "# Remove all columns and pound signs from the price column.\n",
    "dataset_cleaned['price'] = dataset_cleaned['price'].map(lambda x : x.replace('£', '')) #Removes the pound signs\n",
    "dataset_cleaned['price'] = dataset_cleaned['price'].map(lambda x: x.replace(',', '')) #Removes commas\n",
    "\n",
    "# Transform it to numeric type.\n",
    "dataset_cleaned['price'] = pd.to_numeric(dataset_cleaned['price'])"
   ]
  },
  {
   "cell_type": "markdown",
   "metadata": {},
   "source": [
    "### Category processing\n",
    "\n",
    "We'd like to extract the root category from each entry. If we examine the category entries, we see that subcategories are differentiated by a '/'. So we can use the `string.split` method to extract the highest level category."
   ]
  },
  {
   "cell_type": "code",
   "execution_count": 5,
   "metadata": {},
   "outputs": [],
   "source": [
    "dataset_cleaned['category'] = dataset_cleaned['category'].map(lambda x: x.split(' /' )[0])"
   ]
  },
  {
   "cell_type": "markdown",
   "metadata": {},
   "source": [
    "Let's list all the unique values in `dataset_cleaned['category']` to check this was done correctly."
   ]
  },
  {
   "cell_type": "code",
   "execution_count": 6,
   "metadata": {},
   "outputs": [
    {
     "data": {
      "text/plain": [
       "array(['Home & Garden', 'Baby & Kids Stuff', 'DIY Tools & Materials',\n",
       "       'Music, Films, Books & Games', 'Phones, Mobile Phones & Telecoms',\n",
       "       'Clothes, Footwear & Accessories', 'Other Goods',\n",
       "       'Health & Beauty', 'Sports, Leisure & Travel', 'Appliances',\n",
       "       'Computers & Software', 'Office Furniture & Equipment',\n",
       "       'Video Games & Consoles'], dtype=object)"
      ]
     },
     "execution_count": 6,
     "metadata": {},
     "output_type": "execute_result"
    }
   ],
   "source": [
    "dataset_cleaned['category'].unique()"
   ]
  },
  {
   "cell_type": "markdown",
   "metadata": {},
   "source": [
    "### Encoding the categories\n",
    "\n",
    "We'll create a dictionary to assign each category a numeric value, called `encoder`, and another dictionary `decoder` to do the inverse. Then we save them as pickle files."
   ]
  },
  {
   "cell_type": "code",
   "execution_count": 7,
   "metadata": {},
   "outputs": [],
   "source": [
    "# Create a list of all the unique categories.\n",
    "list_of_categories = list(dataset_cleaned['category'].unique())\n",
    "\n",
    "encoder = {x: list_of_categories.index(x) for x in list_of_categories}\n",
    "decoder = {list_of_categories.index(x):x for x in list_of_categories}\n",
    "\n",
    "#Save these to pickle files:\n",
    "with open(\"encoder_pickle\", 'wb') as encody:\n",
    "    pickle.dump(encoder, encody)\n",
    "\n",
    "with open(\"app/Pickle_Files/encoder_pickle\", 'wb') as encody:\n",
    "    pickle.dump(encoder, encody)\n",
    "\n",
    "with open(\"decoder_pickle\", 'wb') as decody:\n",
    "    pickle.dump(decoder, decody)\n",
    "\n",
    "with open(\"app/Pickle_Files/decoder_pickle\", 'wb') as decody:\n",
    "    pickle.dump(decoder, decody)"
   ]
  },
  {
   "cell_type": "markdown",
   "metadata": {},
   "source": [
    "Finally, we add a new column called `'root_category'` which contains the numeric value associated with the category."
   ]
  },
  {
   "cell_type": "code",
   "execution_count": 8,
   "metadata": {},
   "outputs": [],
   "source": [
    "dataset_cleaned['root_category'] = dataset_cleaned['category']\n",
    "dataset_cleaned['root_category_index'] = dataset_cleaned['category'].map(lambda x:encoder[x])"
   ]
  },
  {
   "cell_type": "markdown",
   "metadata": {},
   "source": [
    "### Merging with Images id\n",
    "\n",
    "The image associated with each product is specified in the file `images.csv`. Within it, there are two columns:\n",
    "\n",
    "- id - Contains the file name of the image associated with the item\n",
    "- product_id - The id, in the sense of `products.csv` of the product associated with the image.\n",
    "\n",
    "We'd like to create a new table with the following:\n",
    "\n",
    "- The product id of each product\n",
    "- The image file name associated with the image\n",
    "- The numeric value of the category associated with the product"
   ]
  },
  {
   "cell_type": "code",
   "execution_count": 9,
   "metadata": {},
   "outputs": [
    {
     "data": {
      "text/plain": [
       "(Unnamed: 0               int64\n",
       " id                      object\n",
       " product_name            object\n",
       " category                object\n",
       " product_description     object\n",
       " price                  float64\n",
       " location                object\n",
       " root_category           object\n",
       " root_category_index      int64\n",
       " merge_column            object\n",
       " dtype: object,\n",
       " Unnamed: 0       int64\n",
       " id              object\n",
       " product_id      object\n",
       " merge_column    object\n",
       " dtype: object)"
      ]
     },
     "execution_count": 9,
     "metadata": {},
     "output_type": "execute_result"
    }
   ],
   "source": [
    "# Import the data from `Images.csv` to a pandas dataframe.\n",
    "images_dataset = pd.read_csv('Datasets/Images.csv')\n",
    "\n",
    "# Create new column in both `images_dataset` and `dataset_cleaned` to merge the dataframes on.\n",
    "dataset_cleaned[\"merge_column\"] = dataset_cleaned['id']\n",
    "images_dataset['merge_column'] = images_dataset['product_id']\n",
    "\n",
    "# Double check the dtypes of the dataframe\n",
    "dataset_cleaned.dtypes, images_dataset.dtypes"
   ]
  },
  {
   "cell_type": "markdown",
   "metadata": {},
   "source": [
    "All seems to be good, so we can go ahead and merge the dataframes."
   ]
  },
  {
   "cell_type": "code",
   "execution_count": 10,
   "metadata": {},
   "outputs": [],
   "source": [
    "merged_df = images_dataset.merge(dataset_cleaned, on='merge_column')"
   ]
  },
  {
   "cell_type": "markdown",
   "metadata": {},
   "source": [
    "Of course, we only need some of the columns of `merged_df`."
   ]
  },
  {
   "cell_type": "code",
   "execution_count": 11,
   "metadata": {},
   "outputs": [
    {
     "data": {
      "text/plain": [
       "id                     object\n",
       "root_category          object\n",
       "root_category_index     int64\n",
       "dtype: object"
      ]
     },
     "execution_count": 11,
     "metadata": {},
     "output_type": "execute_result"
    }
   ],
   "source": [
    "# Grab only the columns we need from `merged_df`.\n",
    "merged_df = merged_df[[\"id_x\", \"product_id\", \"root_category\", \"root_category_index\"]]\n",
    "\n",
    "# Rename the column `id_x` to just `id`.\n",
    "merged_df = merged_df.rename(columns={'id_x':'id'})\n",
    "\n",
    "# Drop the product_id column, since we only need to associated images to categories.\n",
    "merged_df = merged_df.drop(columns=['product_id'])\n",
    "\n",
    "# Double check the dtypes.\n",
    "merged_df.dtypes"
   ]
  },
  {
   "cell_type": "markdown",
   "metadata": {},
   "source": [
    "Finally we'll put everything in `merged_df` onto a `.csv` file called `training_data.csv`."
   ]
  },
  {
   "cell_type": "code",
   "execution_count": 12,
   "metadata": {},
   "outputs": [],
   "source": [
    "merged_df.to_csv('Datasets/training_data.csv', index=False)"
   ]
  },
  {
   "cell_type": "markdown",
   "metadata": {},
   "source": [
    "## Image Processing\n",
    "\n",
    "### Resizing and cropping images\n",
    "\n",
    "The image dataset contains images of varing aspect ratios and sizes. We'd like to make them a uniform size which is small enough so that training takes a reasonable amount of time. Let's define some functions to do just that."
   ]
  },
  {
   "cell_type": "code",
   "execution_count": 13,
   "metadata": {},
   "outputs": [],
   "source": [
    "# Takes in an image and an integer. Transforms the image to a square of size `final_size`.\n",
    "def resize_image(final_size:int, im:PIL.Image):\n",
    "\n",
    "    # Current image size\n",
    "    size = im.size\n",
    "\n",
    "    # Ratio to transform the image by\n",
    "    ratio = float(final_size) / max(size)\n",
    "    new_image_size = tuple([int(x*ratio) for x in size])\n",
    "    im = im.resize(new_image_size)\n",
    "    new_im = Image.new(\"RGB\", (final_size, final_size))\n",
    "    new_im.paste(im, ((final_size-new_image_size[0])//2, (final_size-new_image_size[1])//2))\n",
    "    return new_im\n",
    "\n",
    "# Resizes all the images in `path_to_extract` to the size `image_size` and places them in `path_to_save`\n",
    "def clean_images(path_to_extract:str = \"Datasets/images/\", path_to_save:str = \"Datasets/cleaned_images/\", image_size:int = 64):\n",
    "    dirs = os.listdir(path_to_extract)\n",
    "    final_size = image_size\n",
    "    for n, item in enumerate(dirs, 1):\n",
    "        im = Image.open(path_to_extract + item)\n",
    "        new_im = resize_image(final_size, im)\n",
    "        new_im.save(path_to_save + item)\n"
   ]
  },
  {
   "cell_type": "code",
   "execution_count": 14,
   "metadata": {},
   "outputs": [],
   "source": [
    "# Uncomment to run the image clean function\n",
    "# clean_images(path_to_save=\"Datasets/cleaned_images_224/\")"
   ]
  },
  {
   "cell_type": "markdown",
   "metadata": {},
   "source": [
    "### Creating an image dataset\n",
    "\n",
    "We'll create a Torch dataset to load the images. It will be a class inheriting from the `torch.nn.Dataset` module."
   ]
  },
  {
   "cell_type": "code",
   "execution_count": 15,
   "metadata": {},
   "outputs": [],
   "source": [
    "class ImageDataset(Dataset):\n",
    "    def __init__(self, df_of_keys:pd.DataFrame, folder_of_images:str) -> None:\n",
    "        super().__init__()\n",
    "\n",
    "        # Set the labels to be the column 'root_cotegory_index' of df_of_keys\n",
    "        self.labels = df_of_keys['root_category_index']\n",
    "\n",
    "        # Assings image_paths to the file name from the column 'id' of df_of_keys and maps it to it's path relative to the project root folder\n",
    "        self.image_paths = df_of_keys['id'].map(lambda x : folder_of_images + x + '.jpg')\n",
    "\n",
    "        # Turns the image to a Torch tensor.\n",
    "        self.image_transformer = transforms.Compose([\n",
    "            transforms.PILToTensor(),\n",
    "        ])\n",
    "    \n",
    "    def __getitem__(self, index):\n",
    "        \n",
    "        # Opens the image at index with using PIL.Image\n",
    "        with Image.open(self.image_paths[index]) as img:\n",
    "\n",
    "            # Sets the feature to be a tensor obtained by applying PILToTensor to the relevant image\n",
    "            X = self.image_transformer(img)\n",
    "        \n",
    "        # y is the label from self.labels\n",
    "        y = self.labels[index]\n",
    "\n",
    "        #print(X.shape, y.shape)\n",
    "        return X, y\n",
    "    \n",
    "    def __len__(self):\n",
    "        return len(self.labels)\n",
    "\n"
   ]
  },
  {
   "cell_type": "markdown",
   "metadata": {},
   "source": [
    "Let's do a quick sanity check to see how the dataset looks like."
   ]
  },
  {
   "cell_type": "code",
   "execution_count": 16,
   "metadata": {},
   "outputs": [
    {
     "data": {
      "text/plain": [
       "(tensor([[[0, 0, 0,  ..., 0, 0, 0],\n",
       "          [0, 0, 0,  ..., 0, 0, 0],\n",
       "          [0, 0, 0,  ..., 0, 0, 0],\n",
       "          ...,\n",
       "          [0, 0, 0,  ..., 0, 0, 0],\n",
       "          [0, 0, 0,  ..., 0, 0, 0],\n",
       "          [0, 0, 0,  ..., 0, 0, 0]],\n",
       " \n",
       "         [[0, 0, 0,  ..., 0, 0, 0],\n",
       "          [0, 0, 0,  ..., 0, 0, 0],\n",
       "          [0, 0, 0,  ..., 0, 0, 0],\n",
       "          ...,\n",
       "          [0, 0, 0,  ..., 0, 0, 0],\n",
       "          [0, 0, 0,  ..., 0, 0, 0],\n",
       "          [0, 0, 0,  ..., 0, 0, 0]],\n",
       " \n",
       "         [[0, 0, 0,  ..., 0, 0, 0],\n",
       "          [0, 0, 0,  ..., 0, 0, 0],\n",
       "          [0, 0, 0,  ..., 0, 0, 0],\n",
       "          ...,\n",
       "          [0, 0, 0,  ..., 0, 0, 0],\n",
       "          [0, 0, 0,  ..., 0, 0, 0],\n",
       "          [0, 0, 0,  ..., 0, 0, 0]]], dtype=torch.uint8),\n",
       " (),\n",
       " 12604)"
      ]
     },
     "execution_count": 16,
     "metadata": {},
     "output_type": "execute_result"
    }
   ],
   "source": [
    "my_dataset = ImageDataset(merged_df, \"Datasets/cleaned_images_224/\")\n",
    "\n",
    "# A quick sanity check of the dataset:\n",
    "my_dataset[1][0], my_dataset[1][1].shape, len(my_dataset)"
   ]
  },
  {
   "cell_type": "markdown",
   "metadata": {},
   "source": [
    "### Splitting the dataset\n",
    "\n",
    "Since we will only be tuning hyper-parameters and not choosing between different models, we won't need a test dataset. So let's split the dataset into train and validation splits."
   ]
  },
  {
   "cell_type": "code",
   "execution_count": 49,
   "metadata": {},
   "outputs": [],
   "source": [
    "# Split merged_df to a train_df and validation_df\n",
    "train_df, validation_df = train_test_split(merged_df, train_size=10000, test_size= len(merged_df) - 10000)\n",
    "\n",
    "# Reset the indicies\n",
    "train_df.reset_index(inplace=True)\n",
    "validation_df.reset_index(inplace=True)\n",
    "\n",
    "# Create instances of the ImageDataset class\n",
    "train_dataset = ImageDataset(train_df, \"Datasets/cleaned_images_224/\")\n",
    "validation_dataset = ImageDataset(validation_df, \"Datasets/cleaned_images_224/\")\n",
    "\n",
    "# Allow random flips and rotations when loading an image in the train dataset\n",
    "train_dataset.image_transformer = transforms.Compose([\n",
    "    transforms.RandomHorizontalFlip(),\n",
    "    transforms.RandomRotation(25),\n",
    "    transforms.PILToTensor(),\n",
    "    #transforms.Normalize(mean=[0.485, 0.456, 0.406], std=[0.229, 0.224, 0.225]),\n",
    "])\n",
    "\n",
    "# Pass both to dataloaders\n",
    "train_loader = DataLoader(train_dataset, batch_size=128, shuffle=True, num_workers=4)\n",
    "validation_loader = DataLoader(validation_dataset, batch_size=128, shuffle=True, drop_last=True)\n"
   ]
  },
  {
   "cell_type": "markdown",
   "metadata": {},
   "source": [
    "Again let's to a quick sanity check to see we are loading the correct images."
   ]
  },
  {
   "cell_type": "code",
   "execution_count": 53,
   "metadata": {},
   "outputs": [
    {
     "data": {
      "image/jpeg": "[encoded data removed]",
      "image/png": "[encoded data removed]",
      "text/plain": [
       "<PIL.Image.Image image mode=RGB size=224x224>"
      ]
     },
     "execution_count": 53,
     "metadata": {},
     "output_type": "execute_result"
    }
   ],
   "source": [
    "pillow_to_image = transforms.ToPILImage()\n",
    "\n",
    "pillow_to_image(train_dataset[712][0].squeeze(0))"
   ]
  },
  {
   "cell_type": "markdown",
   "metadata": {},
   "source": [
    "## Creating the model\n",
    "\n",
    "Let's do some setup regarding Pytorch and the pretrained model, resnet50."
   ]
  },
  {
   "cell_type": "code",
   "execution_count": 19,
   "metadata": {},
   "outputs": [
    {
     "name": "stdout",
     "output_type": "stream",
     "text": [
      "Model succesfully loaded!\n"
     ]
    }
   ],
   "source": [
    "# Sets the device for PyTorch\n",
    "device = torch.device(\"cuda\") if torch.cuda.is_available() else torch.device(\"cpu\")\n",
    "\n",
    "# Loads the resnet50 model\n",
    "resnet50 = models.resnet50(weights='IMAGENET1K_V1')\n",
    "\n",
    "# Don't know what this does\n",
    "resnet50.eval().to(device)\n",
    "\n",
    "print('Model succesfully loaded!')"
   ]
  },
  {
   "cell_type": "markdown",
   "metadata": {},
   "source": [
    "### Examining the model\n",
    "\n",
    "The following is a useful function to look at the layers within a model and thier grad attributes."
   ]
  },
  {
   "cell_type": "code",
   "execution_count": 20,
   "metadata": {},
   "outputs": [],
   "source": [
    "def show_model_layers(model):\n",
    "    for name, module in model.named_parameters():\n",
    "        if module.requires_grad:\n",
    "            print('Grad!', name, module.requires_grad)\n",
    "        else:\n",
    "            print(name, module.requires_grad)"
   ]
  },
  {
   "cell_type": "code",
   "execution_count": 21,
   "metadata": {},
   "outputs": [
    {
     "name": "stdout",
     "output_type": "stream",
     "text": [
      "Grad! conv1.weight True\n",
      "Grad! bn1.weight True\n",
      "Grad! bn1.bias True\n",
      "Grad! layer1.0.conv1.weight True\n",
      "Grad! layer1.0.bn1.weight True\n",
      "Grad! layer1.0.bn1.bias True\n",
      "Grad! layer1.0.conv2.weight True\n",
      "Grad! layer1.0.bn2.weight True\n",
      "Grad! layer1.0.bn2.bias True\n",
      "Grad! layer1.0.conv3.weight True\n",
      "Grad! layer1.0.bn3.weight True\n",
      "Grad! layer1.0.bn3.bias True\n",
      "Grad! layer1.0.downsample.0.weight True\n",
      "Grad! layer1.0.downsample.1.weight True\n",
      "Grad! layer1.0.downsample.1.bias True\n",
      "Grad! layer1.1.conv1.weight True\n",
      "Grad! layer1.1.bn1.weight True\n",
      "Grad! layer1.1.bn1.bias True\n",
      "Grad! layer1.1.conv2.weight True\n",
      "Grad! layer1.1.bn2.weight True\n",
      "Grad! layer1.1.bn2.bias True\n",
      "Grad! layer1.1.conv3.weight True\n",
      "Grad! layer1.1.bn3.weight True\n",
      "Grad! layer1.1.bn3.bias True\n",
      "Grad! layer1.2.conv1.weight True\n",
      "Grad! layer1.2.bn1.weight True\n",
      "Grad! layer1.2.bn1.bias True\n",
      "Grad! layer1.2.conv2.weight True\n",
      "Grad! layer1.2.bn2.weight True\n",
      "Grad! layer1.2.bn2.bias True\n",
      "Grad! layer1.2.conv3.weight True\n",
      "Grad! layer1.2.bn3.weight True\n",
      "Grad! layer1.2.bn3.bias True\n",
      "Grad! layer2.0.conv1.weight True\n",
      "Grad! layer2.0.bn1.weight True\n",
      "Grad! layer2.0.bn1.bias True\n",
      "Grad! layer2.0.conv2.weight True\n",
      "Grad! layer2.0.bn2.weight True\n",
      "Grad! layer2.0.bn2.bias True\n",
      "Grad! layer2.0.conv3.weight True\n",
      "Grad! layer2.0.bn3.weight True\n",
      "Grad! layer2.0.bn3.bias True\n",
      "Grad! layer2.0.downsample.0.weight True\n",
      "Grad! layer2.0.downsample.1.weight True\n",
      "Grad! layer2.0.downsample.1.bias True\n",
      "Grad! layer2.1.conv1.weight True\n",
      "Grad! layer2.1.bn1.weight True\n",
      "Grad! layer2.1.bn1.bias True\n",
      "Grad! layer2.1.conv2.weight True\n",
      "Grad! layer2.1.bn2.weight True\n",
      "Grad! layer2.1.bn2.bias True\n",
      "Grad! layer2.1.conv3.weight True\n",
      "Grad! layer2.1.bn3.weight True\n",
      "Grad! layer2.1.bn3.bias True\n",
      "Grad! layer2.2.conv1.weight True\n",
      "Grad! layer2.2.bn1.weight True\n",
      "Grad! layer2.2.bn1.bias True\n",
      "Grad! layer2.2.conv2.weight True\n",
      "Grad! layer2.2.bn2.weight True\n",
      "Grad! layer2.2.bn2.bias True\n",
      "Grad! layer2.2.conv3.weight True\n",
      "Grad! layer2.2.bn3.weight True\n",
      "Grad! layer2.2.bn3.bias True\n",
      "Grad! layer2.3.conv1.weight True\n",
      "Grad! layer2.3.bn1.weight True\n",
      "Grad! layer2.3.bn1.bias True\n",
      "Grad! layer2.3.conv2.weight True\n",
      "Grad! layer2.3.bn2.weight True\n",
      "Grad! layer2.3.bn2.bias True\n",
      "Grad! layer2.3.conv3.weight True\n",
      "Grad! layer2.3.bn3.weight True\n",
      "Grad! layer2.3.bn3.bias True\n",
      "Grad! layer3.0.conv1.weight True\n",
      "Grad! layer3.0.bn1.weight True\n",
      "Grad! layer3.0.bn1.bias True\n",
      "Grad! layer3.0.conv2.weight True\n",
      "Grad! layer3.0.bn2.weight True\n",
      "Grad! layer3.0.bn2.bias True\n",
      "Grad! layer3.0.conv3.weight True\n",
      "Grad! layer3.0.bn3.weight True\n",
      "Grad! layer3.0.bn3.bias True\n",
      "Grad! layer3.0.downsample.0.weight True\n",
      "Grad! layer3.0.downsample.1.weight True\n",
      "Grad! layer3.0.downsample.1.bias True\n",
      "Grad! layer3.1.conv1.weight True\n",
      "Grad! layer3.1.bn1.weight True\n",
      "Grad! layer3.1.bn1.bias True\n",
      "Grad! layer3.1.conv2.weight True\n",
      "Grad! layer3.1.bn2.weight True\n",
      "Grad! layer3.1.bn2.bias True\n",
      "Grad! layer3.1.conv3.weight True\n",
      "Grad! layer3.1.bn3.weight True\n",
      "Grad! layer3.1.bn3.bias True\n",
      "Grad! layer3.2.conv1.weight True\n",
      "Grad! layer3.2.bn1.weight True\n",
      "Grad! layer3.2.bn1.bias True\n",
      "Grad! layer3.2.conv2.weight True\n",
      "Grad! layer3.2.bn2.weight True\n",
      "Grad! layer3.2.bn2.bias True\n",
      "Grad! layer3.2.conv3.weight True\n",
      "Grad! layer3.2.bn3.weight True\n",
      "Grad! layer3.2.bn3.bias True\n",
      "Grad! layer3.3.conv1.weight True\n",
      "Grad! layer3.3.bn1.weight True\n",
      "Grad! layer3.3.bn1.bias True\n",
      "Grad! layer3.3.conv2.weight True\n",
      "Grad! layer3.3.bn2.weight True\n",
      "Grad! layer3.3.bn2.bias True\n",
      "Grad! layer3.3.conv3.weight True\n",
      "Grad! layer3.3.bn3.weight True\n",
      "Grad! layer3.3.bn3.bias True\n",
      "Grad! layer3.4.conv1.weight True\n",
      "Grad! layer3.4.bn1.weight True\n",
      "Grad! layer3.4.bn1.bias True\n",
      "Grad! layer3.4.conv2.weight True\n",
      "Grad! layer3.4.bn2.weight True\n",
      "Grad! layer3.4.bn2.bias True\n",
      "Grad! layer3.4.conv3.weight True\n",
      "Grad! layer3.4.bn3.weight True\n",
      "Grad! layer3.4.bn3.bias True\n",
      "Grad! layer3.5.conv1.weight True\n",
      "Grad! layer3.5.bn1.weight True\n",
      "Grad! layer3.5.bn1.bias True\n",
      "Grad! layer3.5.conv2.weight True\n",
      "Grad! layer3.5.bn2.weight True\n",
      "Grad! layer3.5.bn2.bias True\n",
      "Grad! layer3.5.conv3.weight True\n",
      "Grad! layer3.5.bn3.weight True\n",
      "Grad! layer3.5.bn3.bias True\n",
      "Grad! layer4.0.conv1.weight True\n",
      "Grad! layer4.0.bn1.weight True\n",
      "Grad! layer4.0.bn1.bias True\n",
      "Grad! layer4.0.conv2.weight True\n",
      "Grad! layer4.0.bn2.weight True\n",
      "Grad! layer4.0.bn2.bias True\n",
      "Grad! layer4.0.conv3.weight True\n",
      "Grad! layer4.0.bn3.weight True\n",
      "Grad! layer4.0.bn3.bias True\n",
      "Grad! layer4.0.downsample.0.weight True\n",
      "Grad! layer4.0.downsample.1.weight True\n",
      "Grad! layer4.0.downsample.1.bias True\n",
      "Grad! layer4.1.conv1.weight True\n",
      "Grad! layer4.1.bn1.weight True\n",
      "Grad! layer4.1.bn1.bias True\n",
      "Grad! layer4.1.conv2.weight True\n",
      "Grad! layer4.1.bn2.weight True\n",
      "Grad! layer4.1.bn2.bias True\n",
      "Grad! layer4.1.conv3.weight True\n",
      "Grad! layer4.1.bn3.weight True\n",
      "Grad! layer4.1.bn3.bias True\n",
      "Grad! layer4.2.conv1.weight True\n",
      "Grad! layer4.2.bn1.weight True\n",
      "Grad! layer4.2.bn1.bias True\n",
      "Grad! layer4.2.conv2.weight True\n",
      "Grad! layer4.2.bn2.weight True\n",
      "Grad! layer4.2.bn2.bias True\n",
      "Grad! layer4.2.conv3.weight True\n",
      "Grad! layer4.2.bn3.weight True\n",
      "Grad! layer4.2.bn3.bias True\n",
      "Grad! fc.weight True\n",
      "Grad! fc.bias True\n"
     ]
    }
   ],
   "source": [
    "show_model_layers(resnet50)"
   ]
  },
  {
   "attachments": {},
   "cell_type": "markdown",
   "metadata": {},
   "source": [
    "We see that the final layer of resnet50, `fc` takes in 2048 features and outputs 1000 features. The number of labels we need to classify, i.e. the number of distinct values in `merged_df['root_categories']` is 13.\n",
    "\n",
    "The approach we'll take is to add a few extra layers to the end of resnet50 eventually reducing the number of outputs to 13.\n",
    "\n",
    "### Defining the Model\n",
    "\n",
    "Let's define a class for our model.\n"
   ]
  },
  {
   "cell_type": "code",
   "execution_count": 56,
   "metadata": {},
   "outputs": [],
   "source": [
    "class ImageClassifier(torch.nn.Module):\n",
    "    def __init__(self, num_labels:int) -> None:\n",
    "        \"\"\"\n",
    "        Takes in one argument, num_labels which will the dimension of the output of the final layer.\n",
    "        \"\"\"\n",
    "        super().__init__()\n",
    "        # Load resnet50 into the object.\n",
    "        self.resnet50 = models.resnet50(weights='IMAGENET1K_V1')\n",
    "        \n",
    "        # Freeze all the layers, by setting 'requires_grad = False'.\n",
    "        for param in self.resnet50.parameters():\n",
    "            param.requires_grad = False\n",
    "\n",
    "        # Unfreeze the final layer of renset50.\n",
    "\n",
    "        for param in self.resnet50.fc.parameters():\n",
    "            param.requires_grad = True\n",
    "        \n",
    "        # Adjoin some extra layers to the end of the model\n",
    "        \n",
    "        self.layers = torch.nn.Sequential(\n",
    "            self.resnet50,\n",
    "            torch.nn.ReLU(),\n",
    "            torch.nn.Linear(1000, 500),\n",
    "            torch.nn.Dropout(),\n",
    "            torch.nn.ReLU(),\n",
    "            torch.nn.Linear(500, num_labels),\n",
    "            torch.nn.Softmax(dim=1),\n",
    "        )\n",
    "\n",
    "    def forward(self, X):\n",
    "        \"\"\"\n",
    "        Standard forward method.\n",
    "        \"\"\"\n",
    "        X = X.float()\n",
    "        X = self.layers(X)\n",
    "        return X\n",
    "    \n",
    "    def forward_no_grad(self, X):\n",
    "        \"\"\"\n",
    "        Define a forward method which does not use grad, to speed up computaion when not training the model.\n",
    "        \"\"\"\n",
    "        with torch.no_grad():\n",
    "            X = X.float()\n",
    "            X = self.layers(X)\n",
    "            return X"
   ]
  },
  {
   "cell_type": "markdown",
   "metadata": {},
   "source": [
    "Now that the class is set up, we can create an instance of the class."
   ]
  },
  {
   "cell_type": "code",
   "execution_count": 57,
   "metadata": {},
   "outputs": [
    {
     "name": "stdout",
     "output_type": "stream",
     "text": [
      "resnet50.conv1.weight False\n",
      "resnet50.bn1.weight False\n",
      "resnet50.bn1.bias False\n",
      "resnet50.layer1.0.conv1.weight False\n",
      "resnet50.layer1.0.bn1.weight False\n",
      "resnet50.layer1.0.bn1.bias False\n",
      "resnet50.layer1.0.conv2.weight False\n",
      "resnet50.layer1.0.bn2.weight False\n",
      "resnet50.layer1.0.bn2.bias False\n",
      "resnet50.layer1.0.conv3.weight False\n",
      "resnet50.layer1.0.bn3.weight False\n",
      "resnet50.layer1.0.bn3.bias False\n",
      "resnet50.layer1.0.downsample.0.weight False\n",
      "resnet50.layer1.0.downsample.1.weight False\n",
      "resnet50.layer1.0.downsample.1.bias False\n",
      "resnet50.layer1.1.conv1.weight False\n",
      "resnet50.layer1.1.bn1.weight False\n",
      "resnet50.layer1.1.bn1.bias False\n",
      "resnet50.layer1.1.conv2.weight False\n",
      "resnet50.layer1.1.bn2.weight False\n",
      "resnet50.layer1.1.bn2.bias False\n",
      "resnet50.layer1.1.conv3.weight False\n",
      "resnet50.layer1.1.bn3.weight False\n",
      "resnet50.layer1.1.bn3.bias False\n",
      "resnet50.layer1.2.conv1.weight False\n",
      "resnet50.layer1.2.bn1.weight False\n",
      "resnet50.layer1.2.bn1.bias False\n",
      "resnet50.layer1.2.conv2.weight False\n",
      "resnet50.layer1.2.bn2.weight False\n",
      "resnet50.layer1.2.bn2.bias False\n",
      "resnet50.layer1.2.conv3.weight False\n",
      "resnet50.layer1.2.bn3.weight False\n",
      "resnet50.layer1.2.bn3.bias False\n",
      "resnet50.layer2.0.conv1.weight False\n",
      "resnet50.layer2.0.bn1.weight False\n",
      "resnet50.layer2.0.bn1.bias False\n",
      "resnet50.layer2.0.conv2.weight False\n",
      "resnet50.layer2.0.bn2.weight False\n",
      "resnet50.layer2.0.bn2.bias False\n",
      "resnet50.layer2.0.conv3.weight False\n",
      "resnet50.layer2.0.bn3.weight False\n",
      "resnet50.layer2.0.bn3.bias False\n",
      "resnet50.layer2.0.downsample.0.weight False\n",
      "resnet50.layer2.0.downsample.1.weight False\n",
      "resnet50.layer2.0.downsample.1.bias False\n",
      "resnet50.layer2.1.conv1.weight False\n",
      "resnet50.layer2.1.bn1.weight False\n",
      "resnet50.layer2.1.bn1.bias False\n",
      "resnet50.layer2.1.conv2.weight False\n",
      "resnet50.layer2.1.bn2.weight False\n",
      "resnet50.layer2.1.bn2.bias False\n",
      "resnet50.layer2.1.conv3.weight False\n",
      "resnet50.layer2.1.bn3.weight False\n",
      "resnet50.layer2.1.bn3.bias False\n",
      "resnet50.layer2.2.conv1.weight False\n",
      "resnet50.layer2.2.bn1.weight False\n",
      "resnet50.layer2.2.bn1.bias False\n",
      "resnet50.layer2.2.conv2.weight False\n",
      "resnet50.layer2.2.bn2.weight False\n",
      "resnet50.layer2.2.bn2.bias False\n",
      "resnet50.layer2.2.conv3.weight False\n",
      "resnet50.layer2.2.bn3.weight False\n",
      "resnet50.layer2.2.bn3.bias False\n",
      "resnet50.layer2.3.conv1.weight False\n",
      "resnet50.layer2.3.bn1.weight False\n",
      "resnet50.layer2.3.bn1.bias False\n",
      "resnet50.layer2.3.conv2.weight False\n",
      "resnet50.layer2.3.bn2.weight False\n",
      "resnet50.layer2.3.bn2.bias False\n",
      "resnet50.layer2.3.conv3.weight False\n",
      "resnet50.layer2.3.bn3.weight False\n",
      "resnet50.layer2.3.bn3.bias False\n",
      "resnet50.layer3.0.conv1.weight False\n",
      "resnet50.layer3.0.bn1.weight False\n",
      "resnet50.layer3.0.bn1.bias False\n",
      "resnet50.layer3.0.conv2.weight False\n",
      "resnet50.layer3.0.bn2.weight False\n",
      "resnet50.layer3.0.bn2.bias False\n",
      "resnet50.layer3.0.conv3.weight False\n",
      "resnet50.layer3.0.bn3.weight False\n",
      "resnet50.layer3.0.bn3.bias False\n",
      "resnet50.layer3.0.downsample.0.weight False\n",
      "resnet50.layer3.0.downsample.1.weight False\n",
      "resnet50.layer3.0.downsample.1.bias False\n",
      "resnet50.layer3.1.conv1.weight False\n",
      "resnet50.layer3.1.bn1.weight False\n",
      "resnet50.layer3.1.bn1.bias False\n",
      "resnet50.layer3.1.conv2.weight False\n",
      "resnet50.layer3.1.bn2.weight False\n",
      "resnet50.layer3.1.bn2.bias False\n",
      "resnet50.layer3.1.conv3.weight False\n",
      "resnet50.layer3.1.bn3.weight False\n",
      "resnet50.layer3.1.bn3.bias False\n",
      "resnet50.layer3.2.conv1.weight False\n",
      "resnet50.layer3.2.bn1.weight False\n",
      "resnet50.layer3.2.bn1.bias False\n",
      "resnet50.layer3.2.conv2.weight False\n",
      "resnet50.layer3.2.bn2.weight False\n",
      "resnet50.layer3.2.bn2.bias False\n",
      "resnet50.layer3.2.conv3.weight False\n",
      "resnet50.layer3.2.bn3.weight False\n",
      "resnet50.layer3.2.bn3.bias False\n",
      "resnet50.layer3.3.conv1.weight False\n",
      "resnet50.layer3.3.bn1.weight False\n",
      "resnet50.layer3.3.bn1.bias False\n",
      "resnet50.layer3.3.conv2.weight False\n",
      "resnet50.layer3.3.bn2.weight False\n",
      "resnet50.layer3.3.bn2.bias False\n",
      "resnet50.layer3.3.conv3.weight False\n",
      "resnet50.layer3.3.bn3.weight False\n",
      "resnet50.layer3.3.bn3.bias False\n",
      "resnet50.layer3.4.conv1.weight False\n",
      "resnet50.layer3.4.bn1.weight False\n",
      "resnet50.layer3.4.bn1.bias False\n",
      "resnet50.layer3.4.conv2.weight False\n",
      "resnet50.layer3.4.bn2.weight False\n",
      "resnet50.layer3.4.bn2.bias False\n",
      "resnet50.layer3.4.conv3.weight False\n",
      "resnet50.layer3.4.bn3.weight False\n",
      "resnet50.layer3.4.bn3.bias False\n",
      "resnet50.layer3.5.conv1.weight False\n",
      "resnet50.layer3.5.bn1.weight False\n",
      "resnet50.layer3.5.bn1.bias False\n",
      "resnet50.layer3.5.conv2.weight False\n",
      "resnet50.layer3.5.bn2.weight False\n",
      "resnet50.layer3.5.bn2.bias False\n",
      "resnet50.layer3.5.conv3.weight False\n",
      "resnet50.layer3.5.bn3.weight False\n",
      "resnet50.layer3.5.bn3.bias False\n",
      "resnet50.layer4.0.conv1.weight False\n",
      "resnet50.layer4.0.bn1.weight False\n",
      "resnet50.layer4.0.bn1.bias False\n",
      "resnet50.layer4.0.conv2.weight False\n",
      "resnet50.layer4.0.bn2.weight False\n",
      "resnet50.layer4.0.bn2.bias False\n",
      "resnet50.layer4.0.conv3.weight False\n",
      "resnet50.layer4.0.bn3.weight False\n",
      "resnet50.layer4.0.bn3.bias False\n",
      "resnet50.layer4.0.downsample.0.weight False\n",
      "resnet50.layer4.0.downsample.1.weight False\n",
      "resnet50.layer4.0.downsample.1.bias False\n",
      "resnet50.layer4.1.conv1.weight False\n",
      "resnet50.layer4.1.bn1.weight False\n",
      "resnet50.layer4.1.bn1.bias False\n",
      "resnet50.layer4.1.conv2.weight False\n",
      "resnet50.layer4.1.bn2.weight False\n",
      "resnet50.layer4.1.bn2.bias False\n",
      "resnet50.layer4.1.conv3.weight False\n",
      "resnet50.layer4.1.bn3.weight False\n",
      "resnet50.layer4.1.bn3.bias False\n",
      "resnet50.layer4.2.conv1.weight False\n",
      "resnet50.layer4.2.bn1.weight False\n",
      "resnet50.layer4.2.bn1.bias False\n",
      "resnet50.layer4.2.conv2.weight False\n",
      "resnet50.layer4.2.bn2.weight False\n",
      "resnet50.layer4.2.bn2.bias False\n",
      "resnet50.layer4.2.conv3.weight False\n",
      "resnet50.layer4.2.bn3.weight False\n",
      "resnet50.layer4.2.bn3.bias False\n",
      "Grad! resnet50.fc.weight True\n",
      "Grad! resnet50.fc.bias True\n",
      "Grad! layers.2.weight True\n",
      "Grad! layers.2.bias True\n",
      "Grad! layers.5.weight True\n",
      "Grad! layers.5.bias True\n"
     ]
    }
   ],
   "source": [
    "# Instantiate the class with 13 outputs\n",
    "model = ImageClassifier(13)\n",
    "\n",
    "# Load the model to the device\n",
    "model.to(device)\n",
    "\n",
    "# Check the layers of newly defined model.\n",
    "show_model_layers(model)"
   ]
  },
  {
   "cell_type": "markdown",
   "metadata": {},
   "source": [
    "Let's check that the model behaves as expcted:"
   ]
  },
  {
   "cell_type": "code",
   "execution_count": 58,
   "metadata": {},
   "outputs": [
    {
     "data": {
      "text/plain": [
       "(tensor([[0.1086, 0.0576, 0.0593, 0.0694, 0.0663, 0.0541, 0.0987, 0.0598, 0.0862,\n",
       "          0.0960, 0.0817, 0.0793, 0.0830]], device='cuda:0',\n",
       "        grad_fn=<SoftmaxBackward0>),\n",
       " torch.Size([1, 13]))"
      ]
     },
     "execution_count": 58,
     "metadata": {},
     "output_type": "execute_result"
    }
   ],
   "source": [
    "feature, label = train_dataset[0]\n",
    "predition = model(feature.cuda().unsqueeze(0))\n",
    "\n",
    "predition, predition.shape"
   ]
  },
  {
   "cell_type": "markdown",
   "metadata": {},
   "source": [
    "We see that the output has dimension 13, so everything seems to be working correctly.\n",
    "\n",
    "### Training loop\n",
    "\n",
    "The model will be trained using stochastic gradient descent. The training loop is the following:"
   ]
  },
  {
   "cell_type": "code",
   "execution_count": 59,
   "metadata": {},
   "outputs": [],
   "source": [
    "# The training loop. Takes in a model, the training and validation data loaders, the number of epochs and the initial learning rate\n",
    "def train(model, train_loader, validation_loader, epochs = 10, learning_rate = 1):\n",
    "\n",
    "    torch.cuda.empty_cache()\n",
    "\n",
    "    # Set the optimiser to be an instance of the stochastic gradient descent class\n",
    "    # Only want the parameters in fc to be updated\n",
    "    optimiser = torch.optim.SGD(model.parameters(), lr=learning_rate)\n",
    "\n",
    "    # Define a learning rate scheduler as an instance of the ReduceLROnPlateau class\n",
    "    scheduler = torch.optim.lr_scheduler.ReduceLROnPlateau(optimiser, mode='min', patience=50, cooldown=7, eps=1e-20)\n",
    "\n",
    "    # Writer will be used to track model performance with TensorBoard\n",
    "    writer = SummaryWriter()\n",
    "\n",
    "    # Keep track of the number of batches to plot model performace against\n",
    "    batch_index = 0\n",
    "    \n",
    "    # Prints an validation score\n",
    "    print(f\"Initial validation accuracy score{accuracy_score_from_valiadation(model, validation_loader)}\")\n",
    "\n",
    "    #Create a dictionary to store the best model parameters\n",
    "    best_model_parameters = {'Epoch':-1, 'Accuracy':0, 'Parameters':model.state_dict()}\n",
    "\n",
    "    # Loop over the number of epochs\n",
    "    for epoch in range(epochs):\n",
    "\n",
    "        # Within each epoch, we pass through the entire training data in batches indexed by batch\n",
    "        for batch in train_loader:\n",
    "            # Loads features and labels into device for performance improvements\n",
    "            features, labels = batch\n",
    "\n",
    "            features = features.to(device)\n",
    "            labels = labels.to(device)\n",
    "\n",
    "            # Calculate the loss via cross_entropy\n",
    "            loss = F.cross_entropy(model(features), labels)\n",
    "\n",
    "            # Create the grad attributes\n",
    "            loss.backward() \n",
    "\n",
    "            # Print the performance\n",
    "            print(f\"Epoch: {epoch}, batch index: {batch_index}, learning rate: {scheduler.get_last_lr()}, loss:{loss.item()}\")\n",
    "\n",
    "            # Perform one step of stochastic gradient descent\n",
    "            optimiser.step()\n",
    "\n",
    "            # Zero the gradients (Apparently set_to_none=True imporves performace)\n",
    "            optimiser.zero_grad(set_to_none=True)\n",
    "\n",
    "            # Feed the loss amount into the learning rate scheduler to decide the next learning rate\n",
    "            scheduler.step(loss.item())\n",
    "\n",
    "            # Write the performance to the TensorBoard plot\n",
    "            writer.add_scalar('loss', loss.item(), batch_index)\n",
    "\n",
    "            # Increment the batch index\n",
    "            batch_index += 1\n",
    "        \n",
    "        # Print the validation loss\n",
    "        print('Calculating validation accuracy')\n",
    "        accuracy = accuracy_score_from_valiadation(model, validation_loader)\n",
    "        print(f\"Epoch {epoch}, validation accuracy score{accuracy}\")\n",
    "\n",
    "        # Check if the model has the best perfomrance and save the parameters to 'best_model.pt'\n",
    "        if accuracy > best_model_parameters['Accuracy']:\n",
    "            best_model_parameters['Epoch'] = epoch\n",
    "            best_model_parameters['Accuracy'] = loss.item()\n",
    "            best_model_parameters['Parameters'] = model.state_dict()\n",
    "            torch.save(model.state_dict(), 'model_evaluation/weights/best_model.pt')\n",
    "\n",
    "        if epoch % 5 == 0:\n",
    "            print(\"Saving model parameters!\")\n",
    "            # Create an instance of the datetime class\n",
    "            dt = datetime.now()\n",
    "            date_stamp = str(dt).replace(':', '_').replace('.', '_').replace(' ', '_')\n",
    "\n",
    "            # Save the model parameters to the folder 'model_evaluation/weights', along with the time and epoch they were generated\n",
    "            torch.save(model.state_dict(), f'model_evaluation/weights/model_{date_stamp}_epoch_{epoch}_accuracy_{accuracy}.pt') # Is there a better way to do this?\n",
    "    \n",
    "    print('Loading best model')\n",
    "    \n",
    "    #Update model parameters with the best model parameters:\n",
    "    model.load_state_dict(best_model_parameters['Parameters'])\n",
    "    print(f'The best model has validation accuracy {accuracy_score_from_valiadation(model, validation_loader)}')\n",
    "\n",
    "def accuracy_score_from_valiadation(model, validation_loader):\n",
    "    \"\"\"\n",
    "    Calculates the accuracy using the WHOLE of the validation dataset.\n",
    "    \"\"\"\n",
    "\n",
    "    # Initialise an empty array containing the accuracy of each batch from the validation loader.\n",
    "    list_of_scores = []\n",
    "\n",
    "    # Iterates over all batches in the validation loader\n",
    "    for batch in validation_loader:\n",
    "        features, labels = batch\n",
    "\n",
    "        features = features.to(device)\n",
    "        labels = labels.to(device)\n",
    "\n",
    "        predictions = torch.tensor([torch.argmax(prediction) for prediction in model.forward_no_grad(features)]).to(device)\n",
    "        num_correct =  torch.sum(predictions == labels)\n",
    "\n",
    "        list_of_scores.append(torch.div(num_correct, len(labels)).item())\n",
    "    \n",
    "    return sum(list_of_scores) / len(list_of_scores)\n",
    "\n"
   ]
  },
  {
   "cell_type": "code",
   "execution_count": null,
   "metadata": {},
   "outputs": [],
   "source": [
    "# Train the model, uncomment to train\n",
    "# train(model, train_loader, validation_loader, epochs=40, learning_rate=1)"
   ]
  },
  {
   "cell_type": "markdown",
   "metadata": {},
   "source": [
    "We should now have a slightly trained model!"
   ]
  },
  {
   "cell_type": "markdown",
   "metadata": {},
   "source": [
    "# Testing the image processing script"
   ]
  },
  {
   "cell_type": "code",
   "execution_count": 64,
   "metadata": {},
   "outputs": [
    {
     "data": {
      "text/plain": [
       "tensor([[0.0422, 0.0480, 0.0647, 0.0291, 0.0556, 0.0487, 0.0480, 0.1224, 0.0686,\n",
       "         0.1006, 0.0367, 0.2773, 0.0582]], device='cuda:0',\n",
       "       grad_fn=<SoftmaxBackward0>)"
      ]
     },
     "execution_count": 64,
     "metadata": {},
     "output_type": "execute_result"
    }
   ],
   "source": [
    "from image_processor import process_image_as_pil\n",
    "\n",
    "with Image.open(\"Datasets/images/ffff23f1-59fc-47bd-b0cd-186933803287.jpg\") as image:\n",
    "    image_tensor = process_image_as_pil(image).to(device)\n",
    "\n",
    "model(image_tensor)"
   ]
  },
  {
   "cell_type": "markdown",
   "metadata": {},
   "source": [
    "### Feature extraction model\n",
    "\n",
    "The feature extraction model should take in an image and return a vector with 1000 entries loosely corresponding to the predicted image category and image characteristics. We can achieve this by taking the category classification model and removing the extra layers added on top of resnet50."
   ]
  },
  {
   "cell_type": "code",
   "execution_count": 68,
   "metadata": {},
   "outputs": [
    {
     "name": "stdout",
     "output_type": "stream",
     "text": [
      "resnet50.conv1.weight False\n",
      "resnet50.bn1.weight False\n",
      "resnet50.bn1.bias False\n",
      "resnet50.layer1.0.conv1.weight False\n",
      "resnet50.layer1.0.bn1.weight False\n",
      "resnet50.layer1.0.bn1.bias False\n",
      "resnet50.layer1.0.conv2.weight False\n",
      "resnet50.layer1.0.bn2.weight False\n",
      "resnet50.layer1.0.bn2.bias False\n",
      "resnet50.layer1.0.conv3.weight False\n",
      "resnet50.layer1.0.bn3.weight False\n",
      "resnet50.layer1.0.bn3.bias False\n",
      "resnet50.layer1.0.downsample.0.weight False\n",
      "resnet50.layer1.0.downsample.1.weight False\n",
      "resnet50.layer1.0.downsample.1.bias False\n",
      "resnet50.layer1.1.conv1.weight False\n",
      "resnet50.layer1.1.bn1.weight False\n",
      "resnet50.layer1.1.bn1.bias False\n",
      "resnet50.layer1.1.conv2.weight False\n",
      "resnet50.layer1.1.bn2.weight False\n",
      "resnet50.layer1.1.bn2.bias False\n",
      "resnet50.layer1.1.conv3.weight False\n",
      "resnet50.layer1.1.bn3.weight False\n",
      "resnet50.layer1.1.bn3.bias False\n",
      "resnet50.layer1.2.conv1.weight False\n",
      "resnet50.layer1.2.bn1.weight False\n",
      "resnet50.layer1.2.bn1.bias False\n",
      "resnet50.layer1.2.conv2.weight False\n",
      "resnet50.layer1.2.bn2.weight False\n",
      "resnet50.layer1.2.bn2.bias False\n",
      "resnet50.layer1.2.conv3.weight False\n",
      "resnet50.layer1.2.bn3.weight False\n",
      "resnet50.layer1.2.bn3.bias False\n",
      "resnet50.layer2.0.conv1.weight False\n",
      "resnet50.layer2.0.bn1.weight False\n",
      "resnet50.layer2.0.bn1.bias False\n",
      "resnet50.layer2.0.conv2.weight False\n",
      "resnet50.layer2.0.bn2.weight False\n",
      "resnet50.layer2.0.bn2.bias False\n",
      "resnet50.layer2.0.conv3.weight False\n",
      "resnet50.layer2.0.bn3.weight False\n",
      "resnet50.layer2.0.bn3.bias False\n",
      "resnet50.layer2.0.downsample.0.weight False\n",
      "resnet50.layer2.0.downsample.1.weight False\n",
      "resnet50.layer2.0.downsample.1.bias False\n",
      "resnet50.layer2.1.conv1.weight False\n",
      "resnet50.layer2.1.bn1.weight False\n",
      "resnet50.layer2.1.bn1.bias False\n",
      "resnet50.layer2.1.conv2.weight False\n",
      "resnet50.layer2.1.bn2.weight False\n",
      "resnet50.layer2.1.bn2.bias False\n",
      "resnet50.layer2.1.conv3.weight False\n",
      "resnet50.layer2.1.bn3.weight False\n",
      "resnet50.layer2.1.bn3.bias False\n",
      "resnet50.layer2.2.conv1.weight False\n",
      "resnet50.layer2.2.bn1.weight False\n",
      "resnet50.layer2.2.bn1.bias False\n",
      "resnet50.layer2.2.conv2.weight False\n",
      "resnet50.layer2.2.bn2.weight False\n",
      "resnet50.layer2.2.bn2.bias False\n",
      "resnet50.layer2.2.conv3.weight False\n",
      "resnet50.layer2.2.bn3.weight False\n",
      "resnet50.layer2.2.bn3.bias False\n",
      "resnet50.layer2.3.conv1.weight False\n",
      "resnet50.layer2.3.bn1.weight False\n",
      "resnet50.layer2.3.bn1.bias False\n",
      "resnet50.layer2.3.conv2.weight False\n",
      "resnet50.layer2.3.bn2.weight False\n",
      "resnet50.layer2.3.bn2.bias False\n",
      "resnet50.layer2.3.conv3.weight False\n",
      "resnet50.layer2.3.bn3.weight False\n",
      "resnet50.layer2.3.bn3.bias False\n",
      "resnet50.layer3.0.conv1.weight False\n",
      "resnet50.layer3.0.bn1.weight False\n",
      "resnet50.layer3.0.bn1.bias False\n",
      "resnet50.layer3.0.conv2.weight False\n",
      "resnet50.layer3.0.bn2.weight False\n",
      "resnet50.layer3.0.bn2.bias False\n",
      "resnet50.layer3.0.conv3.weight False\n",
      "resnet50.layer3.0.bn3.weight False\n",
      "resnet50.layer3.0.bn3.bias False\n",
      "resnet50.layer3.0.downsample.0.weight False\n",
      "resnet50.layer3.0.downsample.1.weight False\n",
      "resnet50.layer3.0.downsample.1.bias False\n",
      "resnet50.layer3.1.conv1.weight False\n",
      "resnet50.layer3.1.bn1.weight False\n",
      "resnet50.layer3.1.bn1.bias False\n",
      "resnet50.layer3.1.conv2.weight False\n",
      "resnet50.layer3.1.bn2.weight False\n",
      "resnet50.layer3.1.bn2.bias False\n",
      "resnet50.layer3.1.conv3.weight False\n",
      "resnet50.layer3.1.bn3.weight False\n",
      "resnet50.layer3.1.bn3.bias False\n",
      "resnet50.layer3.2.conv1.weight False\n",
      "resnet50.layer3.2.bn1.weight False\n",
      "resnet50.layer3.2.bn1.bias False\n",
      "resnet50.layer3.2.conv2.weight False\n",
      "resnet50.layer3.2.bn2.weight False\n",
      "resnet50.layer3.2.bn2.bias False\n",
      "resnet50.layer3.2.conv3.weight False\n",
      "resnet50.layer3.2.bn3.weight False\n",
      "resnet50.layer3.2.bn3.bias False\n",
      "resnet50.layer3.3.conv1.weight False\n",
      "resnet50.layer3.3.bn1.weight False\n",
      "resnet50.layer3.3.bn1.bias False\n",
      "resnet50.layer3.3.conv2.weight False\n",
      "resnet50.layer3.3.bn2.weight False\n",
      "resnet50.layer3.3.bn2.bias False\n",
      "resnet50.layer3.3.conv3.weight False\n",
      "resnet50.layer3.3.bn3.weight False\n",
      "resnet50.layer3.3.bn3.bias False\n",
      "resnet50.layer3.4.conv1.weight False\n",
      "resnet50.layer3.4.bn1.weight False\n",
      "resnet50.layer3.4.bn1.bias False\n",
      "resnet50.layer3.4.conv2.weight False\n",
      "resnet50.layer3.4.bn2.weight False\n",
      "resnet50.layer3.4.bn2.bias False\n",
      "resnet50.layer3.4.conv3.weight False\n",
      "resnet50.layer3.4.bn3.weight False\n",
      "resnet50.layer3.4.bn3.bias False\n",
      "resnet50.layer3.5.conv1.weight False\n",
      "resnet50.layer3.5.bn1.weight False\n",
      "resnet50.layer3.5.bn1.bias False\n",
      "resnet50.layer3.5.conv2.weight False\n",
      "resnet50.layer3.5.bn2.weight False\n",
      "resnet50.layer3.5.bn2.bias False\n",
      "resnet50.layer3.5.conv3.weight False\n",
      "resnet50.layer3.5.bn3.weight False\n",
      "resnet50.layer3.5.bn3.bias False\n",
      "resnet50.layer4.0.conv1.weight False\n",
      "resnet50.layer4.0.bn1.weight False\n",
      "resnet50.layer4.0.bn1.bias False\n",
      "resnet50.layer4.0.conv2.weight False\n",
      "resnet50.layer4.0.bn2.weight False\n",
      "resnet50.layer4.0.bn2.bias False\n",
      "resnet50.layer4.0.conv3.weight False\n",
      "resnet50.layer4.0.bn3.weight False\n",
      "resnet50.layer4.0.bn3.bias False\n",
      "resnet50.layer4.0.downsample.0.weight False\n",
      "resnet50.layer4.0.downsample.1.weight False\n",
      "resnet50.layer4.0.downsample.1.bias False\n",
      "resnet50.layer4.1.conv1.weight False\n",
      "resnet50.layer4.1.bn1.weight False\n",
      "resnet50.layer4.1.bn1.bias False\n",
      "resnet50.layer4.1.conv2.weight False\n",
      "resnet50.layer4.1.bn2.weight False\n",
      "resnet50.layer4.1.bn2.bias False\n",
      "resnet50.layer4.1.conv3.weight False\n",
      "resnet50.layer4.1.bn3.weight False\n",
      "resnet50.layer4.1.bn3.bias False\n",
      "resnet50.layer4.2.conv1.weight False\n",
      "resnet50.layer4.2.bn1.weight False\n",
      "resnet50.layer4.2.bn1.bias False\n",
      "resnet50.layer4.2.conv2.weight False\n",
      "resnet50.layer4.2.bn2.weight False\n",
      "resnet50.layer4.2.bn2.bias False\n",
      "resnet50.layer4.2.conv3.weight False\n",
      "resnet50.layer4.2.bn3.weight False\n",
      "resnet50.layer4.2.bn3.bias False\n",
      "Grad! resnet50.fc.weight True\n",
      "Grad! resnet50.fc.bias True\n"
     ]
    }
   ],
   "source": [
    "# Create an instance of the ImageClassifier classs with the same architecture as the previously trained model\n",
    "feature_extraction_model = ImageClassifier(13)\n",
    "\n",
    "feature_extraction_model.to(device)\n",
    "\n",
    "# Load the same parameters from that model to this one\n",
    "feature_extraction_model.load_state_dict(model.state_dict())\n",
    "\n",
    "# Cut of the extra layers while ensuring the architecture naming scheme stays the same\n",
    "feature_extraction_model.layers = torch.nn.Sequential(\n",
    "    *list(feature_extraction_model.layers.children())[:-6]\n",
    ")\n",
    "\n",
    "# Print the layers as a sanity check\n",
    "show_model_layers(feature_extraction_model)\n",
    "\n",
    "# Save the feature extraction model paramters\n",
    "torch.save(feature_extraction_model.state_dict(), 'model_evaluation/final_model/image_model.pt')\n",
    "torch.save(feature_extraction_model.state_dict(), 'app/Model_Parameters/image_model.pt')\n"
   ]
  },
  {
   "cell_type": "markdown",
   "metadata": {},
   "source": [
    "### Setting up the FAISS index search\n",
    "\n",
    "We need to set up a matrix containing the image embeddings for all the images in out dataset. First let's cerate a dictionary containg pairs of the image id and feature extraction model embeddings, and push it onto a json file."
   ]
  },
  {
   "cell_type": "code",
   "execution_count": 69,
   "metadata": {},
   "outputs": [],
   "source": [
    "def feature_extraction(folder_of_images:str, df_of_keys):\n",
    "    \"\"\"\n",
    "    Creates a dictionary of all the image embeddings of from the feature extraction model from images in folder_of_images. Stored as key value pairs with keys as 'id' from 'df_of_keys' and values of image embeddings.\n",
    "    \"\"\"\n",
    "\n",
    "    # Set up the iamge transformer.\n",
    "    transformer =  transforms.Compose([\n",
    "        transforms.Resize(256),\n",
    "        transforms.CenterCrop(224),\n",
    "        transforms.PILToTensor(),\n",
    "    ])\n",
    "    # Initialise an empty disctionary\n",
    "    dict_of_features = {}\n",
    "\n",
    "    # List containing all the image paths\n",
    "    list_of_image_paths = df_of_keys['id'].map(lambda x : folder_of_images + x + '.jpg')\n",
    "\n",
    "    # Iterate through all images to add thier key value pair of id and image embeddings to 'dict_of_features'.\n",
    "    for index in range(0, len(merged_df)):\n",
    "        image_path = list_of_image_paths[index]\n",
    "        with Image.open(image_path) as img:\n",
    "            features = transformer(img).unsqueeze(0)\n",
    "        features = features.to(device)\n",
    "        image_embedding = feature_extraction_model(features)\n",
    "        image_embedding = image_embedding.squeeze(0)\n",
    "        image_embedding = image_embedding.tolist()\n",
    "        dict_of_features[df_of_keys['id'][index]] = image_embedding\n",
    "\n",
    "    # Save these to project folder.\n",
    "    with open('image_embeddings.json', '+w') as file:\n",
    "        json.dump(dict_of_features, file)\n",
    "\n",
    "        "
   ]
  },
  {
   "cell_type": "code",
   "execution_count": 70,
   "metadata": {},
   "outputs": [],
   "source": [
    "# Uncomment to run\n",
    "feature_extraction('Datasets/cleaned_images_224/', merged_df)"
   ]
  },
  {
   "cell_type": "markdown",
   "metadata": {},
   "source": [
    "Let's load that json file and stack all the image embeddings into a numpy array."
   ]
  },
  {
   "cell_type": "code",
   "execution_count": 71,
   "metadata": {},
   "outputs": [
    {
     "data": {
      "text/plain": [
       "(12604, 1000)"
      ]
     },
     "execution_count": 71,
     "metadata": {},
     "output_type": "execute_result"
    }
   ],
   "source": [
    "# Load the key value pairs of the image file names and image embeddings.\n",
    "with open('image_embeddings.json', 'r') as file:\n",
    "    new_dict = json.load(file)\n",
    "\n",
    "# Unsqueeze each image embedding.\n",
    "for key, value in new_dict.items():\n",
    "    new_dict[key] = [value]\n",
    "\n",
    "# Create a dataframe from the loaded json\n",
    "vectors_df = pd.DataFrame.from_dict(new_dict, orient='index', columns=['image embedding'])\n",
    "\n",
    "# Stack all the image embeddings into a large numpy array.\n",
    "vectors = np.vstack(vectors_df['image embedding']).astype(np.float32)\n",
    "\n",
    "# Double check the shape.\n",
    "vectors.shape\n"
   ]
  },
  {
   "cell_type": "markdown",
   "metadata": {},
   "source": [
    "Let's add `vectors` to the faiss index search."
   ]
  },
  {
   "cell_type": "code",
   "execution_count": 72,
   "metadata": {},
   "outputs": [],
   "source": [
    "index = faiss.IndexFlatL2(1000)\n",
    "index.add(vectors)"
   ]
  },
  {
   "cell_type": "markdown",
   "metadata": {},
   "source": [
    "Check that the seach works as expected:"
   ]
  },
  {
   "cell_type": "code",
   "execution_count": 73,
   "metadata": {},
   "outputs": [
    {
     "name": "stdout",
     "output_type": "stream",
     "text": [
      "[[ 100 6892 6877]] (1, 3)\n",
      "[[0.       5.924145 5.924145]] (1, 3)\n"
     ]
    }
   ],
   "source": [
    "D, I = index.search(np.expand_dims(vectors[100], 0), 3)\n",
    "print(I, I.shape)\n",
    "print(D, D.shape)\n"
   ]
  },
  {
   "cell_type": "markdown",
   "metadata": {},
   "source": [
    "Finally let's save the index seach to a pickle file."
   ]
  },
  {
   "cell_type": "code",
   "execution_count": 74,
   "metadata": {},
   "outputs": [],
   "source": [
    "with open(\"app/faiss_pickle\", 'wb') as pickly:\n",
    "    pickle.dump(index, pickly)"
   ]
  },
  {
   "cell_type": "code",
   "execution_count": null,
   "metadata": {},
   "outputs": [],
   "source": []
  }
 ],
 "metadata": {
  "kernelspec": {
   "display_name": "Python 3",
   "language": "python",
   "name": "python3"
  },
  "language_info": {
   "codemirror_mode": {
    "name": "ipython",
    "version": 3
   },
   "file_extension": ".py",
   "mimetype": "text/x-python",
   "name": "python",
   "nbconvert_exporter": "python",
   "pygments_lexer": "ipython3",
   "version": "3.10.9"
  },
  "vscode": {
   "interpreter": {
    "hash": "52634da84371cba311ea128a5ea7cdc41ff074b781779e754b270ff9f8153cee"
   }
  }
 },
 "nbformat": 4,
 "nbformat_minor": 2
}
